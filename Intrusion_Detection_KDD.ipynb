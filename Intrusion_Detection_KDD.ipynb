{
 "cells": [
  {
   "cell_type": "markdown",
   "metadata": {},
   "source": [
    "### Data Wrangling"
   ]
  },
  {
   "cell_type": "code",
   "execution_count": 1,
   "metadata": {
    "collapsed": false
   },
   "outputs": [],
   "source": [
    "rdd = sc.textFile('./dataset/full_dataset.txt', 4).map(lambda line: line.split(','))"
   ]
  },
  {
   "cell_type": "code",
   "execution_count": 2,
   "metadata": {
    "collapsed": false
   },
   "outputs": [
    {
     "data": {
      "text/plain": [
       "<bound method PipelinedRDD.first of PythonRDD[2] at RDD at PythonRDD.scala:48>"
      ]
     },
     "execution_count": 2,
     "metadata": {},
     "output_type": "execute_result"
    }
   ],
   "source": [
    "rdd.first"
   ]
  },
  {
   "cell_type": "code",
   "execution_count": 3,
   "metadata": {
    "collapsed": false
   },
   "outputs": [
    {
     "data": {
      "text/plain": [
       "[[u'0',\n",
       "  u'tcp',\n",
       "  u'http',\n",
       "  u'SF',\n",
       "  u'181',\n",
       "  u'5450',\n",
       "  u'0',\n",
       "  u'0',\n",
       "  u'0',\n",
       "  u'0',\n",
       "  u'0',\n",
       "  u'1',\n",
       "  u'0',\n",
       "  u'0',\n",
       "  u'0',\n",
       "  u'0',\n",
       "  u'0',\n",
       "  u'0',\n",
       "  u'0',\n",
       "  u'0',\n",
       "  u'0',\n",
       "  u'0',\n",
       "  u'8',\n",
       "  u'8',\n",
       "  u'0.00',\n",
       "  u'0.00',\n",
       "  u'0.00',\n",
       "  u'0.00',\n",
       "  u'1.00',\n",
       "  u'0.00',\n",
       "  u'0.00',\n",
       "  u'9',\n",
       "  u'9',\n",
       "  u'1.00',\n",
       "  u'0.00',\n",
       "  u'0.11',\n",
       "  u'0.00',\n",
       "  u'0.00',\n",
       "  u'0.00',\n",
       "  u'0.00',\n",
       "  u'0.00',\n",
       "  u'normal.'],\n",
       " [u'0',\n",
       "  u'tcp',\n",
       "  u'http',\n",
       "  u'SF',\n",
       "  u'239',\n",
       "  u'486',\n",
       "  u'0',\n",
       "  u'0',\n",
       "  u'0',\n",
       "  u'0',\n",
       "  u'0',\n",
       "  u'1',\n",
       "  u'0',\n",
       "  u'0',\n",
       "  u'0',\n",
       "  u'0',\n",
       "  u'0',\n",
       "  u'0',\n",
       "  u'0',\n",
       "  u'0',\n",
       "  u'0',\n",
       "  u'0',\n",
       "  u'8',\n",
       "  u'8',\n",
       "  u'0.00',\n",
       "  u'0.00',\n",
       "  u'0.00',\n",
       "  u'0.00',\n",
       "  u'1.00',\n",
       "  u'0.00',\n",
       "  u'0.00',\n",
       "  u'19',\n",
       "  u'19',\n",
       "  u'1.00',\n",
       "  u'0.00',\n",
       "  u'0.05',\n",
       "  u'0.00',\n",
       "  u'0.00',\n",
       "  u'0.00',\n",
       "  u'0.00',\n",
       "  u'0.00',\n",
       "  u'normal.'],\n",
       " [u'0',\n",
       "  u'tcp',\n",
       "  u'http',\n",
       "  u'SF',\n",
       "  u'235',\n",
       "  u'1337',\n",
       "  u'0',\n",
       "  u'0',\n",
       "  u'0',\n",
       "  u'0',\n",
       "  u'0',\n",
       "  u'1',\n",
       "  u'0',\n",
       "  u'0',\n",
       "  u'0',\n",
       "  u'0',\n",
       "  u'0',\n",
       "  u'0',\n",
       "  u'0',\n",
       "  u'0',\n",
       "  u'0',\n",
       "  u'0',\n",
       "  u'8',\n",
       "  u'8',\n",
       "  u'0.00',\n",
       "  u'0.00',\n",
       "  u'0.00',\n",
       "  u'0.00',\n",
       "  u'1.00',\n",
       "  u'0.00',\n",
       "  u'0.00',\n",
       "  u'29',\n",
       "  u'29',\n",
       "  u'1.00',\n",
       "  u'0.00',\n",
       "  u'0.03',\n",
       "  u'0.00',\n",
       "  u'0.00',\n",
       "  u'0.00',\n",
       "  u'0.00',\n",
       "  u'0.00',\n",
       "  u'normal.'],\n",
       " [u'0',\n",
       "  u'tcp',\n",
       "  u'http',\n",
       "  u'SF',\n",
       "  u'219',\n",
       "  u'1337',\n",
       "  u'0',\n",
       "  u'0',\n",
       "  u'0',\n",
       "  u'0',\n",
       "  u'0',\n",
       "  u'1',\n",
       "  u'0',\n",
       "  u'0',\n",
       "  u'0',\n",
       "  u'0',\n",
       "  u'0',\n",
       "  u'0',\n",
       "  u'0',\n",
       "  u'0',\n",
       "  u'0',\n",
       "  u'0',\n",
       "  u'6',\n",
       "  u'6',\n",
       "  u'0.00',\n",
       "  u'0.00',\n",
       "  u'0.00',\n",
       "  u'0.00',\n",
       "  u'1.00',\n",
       "  u'0.00',\n",
       "  u'0.00',\n",
       "  u'39',\n",
       "  u'39',\n",
       "  u'1.00',\n",
       "  u'0.00',\n",
       "  u'0.03',\n",
       "  u'0.00',\n",
       "  u'0.00',\n",
       "  u'0.00',\n",
       "  u'0.00',\n",
       "  u'0.00',\n",
       "  u'normal.'],\n",
       " [u'0',\n",
       "  u'tcp',\n",
       "  u'http',\n",
       "  u'SF',\n",
       "  u'217',\n",
       "  u'2032',\n",
       "  u'0',\n",
       "  u'0',\n",
       "  u'0',\n",
       "  u'0',\n",
       "  u'0',\n",
       "  u'1',\n",
       "  u'0',\n",
       "  u'0',\n",
       "  u'0',\n",
       "  u'0',\n",
       "  u'0',\n",
       "  u'0',\n",
       "  u'0',\n",
       "  u'0',\n",
       "  u'0',\n",
       "  u'0',\n",
       "  u'6',\n",
       "  u'6',\n",
       "  u'0.00',\n",
       "  u'0.00',\n",
       "  u'0.00',\n",
       "  u'0.00',\n",
       "  u'1.00',\n",
       "  u'0.00',\n",
       "  u'0.00',\n",
       "  u'49',\n",
       "  u'49',\n",
       "  u'1.00',\n",
       "  u'0.00',\n",
       "  u'0.02',\n",
       "  u'0.00',\n",
       "  u'0.00',\n",
       "  u'0.00',\n",
       "  u'0.00',\n",
       "  u'0.00',\n",
       "  u'normal.']]"
      ]
     },
     "execution_count": 3,
     "metadata": {},
     "output_type": "execute_result"
    }
   ],
   "source": [
    "rdd.take(5)"
   ]
  },
  {
   "cell_type": "code",
   "execution_count": 4,
   "metadata": {
    "collapsed": true
   },
   "outputs": [],
   "source": [
    "import numpy as np\n",
    "\n",
    "col_names = np.array([\"duration\",\"protocol_type\",\"service\",\"flag\",\"src_bytes\",\n",
    "    \"dst_bytes\",\"land\",\"wrong_fragment\",\"urgent\",\"hot\",\"num_failed_logins\",\n",
    "    \"logged_in\",\"num_compromised\",\"root_shell\",\"su_attempted\",\"num_root\",\n",
    "    \"num_file_creations\",\"num_shells\",\"num_access_files\",\"num_outbound_cmds\",\n",
    "    \"is_host_login\",\"is_guest_login\",\"count\",\"srv_count\",\"serror_rate\",\n",
    "    \"srv_serror_rate\",\"rerror_rate\",\"srv_rerror_rate\",\"same_srv_rate\",\n",
    "    \"diff_srv_rate\",\"srv_diff_host_rate\",\"dst_host_count\",\"dst_host_srv_count\",\n",
    "    \"dst_host_same_srv_rate\",\"dst_host_diff_srv_rate\",\"dst_host_same_src_port_rate\",\n",
    "    \"dst_host_srv_diff_host_rate\",\"dst_host_serror_rate\",\"dst_host_srv_serror_rate\",\n",
    "    \"dst_host_rerror_rate\",\"dst_host_srv_rerror_rate\",\"label\"])"
   ]
  },
  {
   "cell_type": "code",
   "execution_count": 5,
   "metadata": {
    "collapsed": true
   },
   "outputs": [],
   "source": [
    "# Convert RDD to Dataframe\n",
    "from pyspark.sql.types import *\n",
    "from pyspark.sql.functions import col\n",
    "\n",
    "df = (rdd.toDF(col_names.tolist()).select(\n",
    "                    col('duration').cast(DoubleType()),\n",
    "                    col('protocol_type').cast(StringType()),\n",
    "                    col('service').cast(StringType()),\n",
    "                    col('flag').cast(StringType()),\n",
    "                    col('src_bytes').cast(DoubleType()),\n",
    "                    col('dst_bytes').cast(DoubleType()),\n",
    "                    col('land').cast(DoubleType()),\n",
    "                    col('wrong_fragment').cast(DoubleType()),\n",
    "                    col('urgent').cast(DoubleType()),\n",
    "                    col('hot').cast(DoubleType()),\n",
    "                    col('num_failed_logins').cast(DoubleType()),\n",
    "                    col('logged_in').cast(DoubleType()),\n",
    "                    col('num_compromised').cast(DoubleType()),\n",
    "                    col('root_shell').cast(DoubleType()),\n",
    "                    col('su_attempted').cast(DoubleType()),\n",
    "                    col('num_root').cast(DoubleType()),\n",
    "                    col('num_file_creations').cast(DoubleType()),\n",
    "                    col('num_shells').cast(DoubleType()),\n",
    "                    col('num_access_files').cast(DoubleType()),\n",
    "                    col('num_outbound_cmds').cast(DoubleType()),\n",
    "                    col('is_host_login').cast(DoubleType()),\n",
    "                    col('is_guest_login').cast(DoubleType()),\n",
    "                    col('count').cast(DoubleType()),\n",
    "                    col('srv_count').cast(DoubleType()),\n",
    "                    col('serror_rate').cast(DoubleType()),\n",
    "                    col('srv_serror_rate').cast(DoubleType()),\n",
    "                    col('rerror_rate').cast(DoubleType()),\n",
    "                    col('srv_rerror_rate').cast(DoubleType()),\n",
    "                    col('same_srv_rate').cast(DoubleType()),\n",
    "                    col('diff_srv_rate').cast(DoubleType()),\n",
    "                    col('srv_diff_host_rate').cast(DoubleType()),\n",
    "                    col('dst_host_count').cast(DoubleType()),\n",
    "                    col('dst_host_srv_count').cast(DoubleType()),\n",
    "                    col('dst_host_same_srv_rate').cast(DoubleType()),\n",
    "                    col('dst_host_diff_srv_rate').cast(DoubleType()),\n",
    "                    col('dst_host_same_src_port_rate').cast(DoubleType()),\n",
    "                    col('dst_host_srv_diff_host_rate').cast(DoubleType()),\n",
    "                    col('dst_host_serror_rate').cast(DoubleType()),\n",
    "                    col('dst_host_srv_serror_rate').cast(DoubleType()),\n",
    "                    col('dst_host_rerror_rate').cast(DoubleType()),\n",
    "                    col('dst_host_srv_rerror_rate').cast(DoubleType()),\n",
    "                    col('label').cast(StringType())))"
   ]
  },
  {
   "cell_type": "code",
   "execution_count": 6,
   "metadata": {
    "collapsed": false
   },
   "outputs": [
    {
     "name": "stdout",
     "output_type": "stream",
     "text": [
      "root\n",
      " |-- duration: double (nullable = true)\n",
      " |-- protocol_type: string (nullable = true)\n",
      " |-- service: string (nullable = true)\n",
      " |-- flag: string (nullable = true)\n",
      " |-- src_bytes: double (nullable = true)\n",
      " |-- dst_bytes: double (nullable = true)\n",
      " |-- land: double (nullable = true)\n",
      " |-- wrong_fragment: double (nullable = true)\n",
      " |-- urgent: double (nullable = true)\n",
      " |-- hot: double (nullable = true)\n",
      " |-- num_failed_logins: double (nullable = true)\n",
      " |-- logged_in: double (nullable = true)\n",
      " |-- num_compromised: double (nullable = true)\n",
      " |-- root_shell: double (nullable = true)\n",
      " |-- su_attempted: double (nullable = true)\n",
      " |-- num_root: double (nullable = true)\n",
      " |-- num_file_creations: double (nullable = true)\n",
      " |-- num_shells: double (nullable = true)\n",
      " |-- num_access_files: double (nullable = true)\n",
      " |-- num_outbound_cmds: double (nullable = true)\n",
      " |-- is_host_login: double (nullable = true)\n",
      " |-- is_guest_login: double (nullable = true)\n",
      " |-- count: double (nullable = true)\n",
      " |-- srv_count: double (nullable = true)\n",
      " |-- serror_rate: double (nullable = true)\n",
      " |-- srv_serror_rate: double (nullable = true)\n",
      " |-- rerror_rate: double (nullable = true)\n",
      " |-- srv_rerror_rate: double (nullable = true)\n",
      " |-- same_srv_rate: double (nullable = true)\n",
      " |-- diff_srv_rate: double (nullable = true)\n",
      " |-- srv_diff_host_rate: double (nullable = true)\n",
      " |-- dst_host_count: double (nullable = true)\n",
      " |-- dst_host_srv_count: double (nullable = true)\n",
      " |-- dst_host_same_srv_rate: double (nullable = true)\n",
      " |-- dst_host_diff_srv_rate: double (nullable = true)\n",
      " |-- dst_host_same_src_port_rate: double (nullable = true)\n",
      " |-- dst_host_srv_diff_host_rate: double (nullable = true)\n",
      " |-- dst_host_serror_rate: double (nullable = true)\n",
      " |-- dst_host_srv_serror_rate: double (nullable = true)\n",
      " |-- dst_host_rerror_rate: double (nullable = true)\n",
      " |-- dst_host_srv_rerror_rate: double (nullable = true)\n",
      " |-- label: string (nullable = true)\n",
      "\n"
     ]
    }
   ],
   "source": [
    "df.printSchema()"
   ]
  },
  {
   "cell_type": "code",
   "execution_count": 7,
   "metadata": {
    "collapsed": false
   },
   "outputs": [
    {
     "data": {
      "text/plain": [
       "['duration',\n",
       " 'protocol_type',\n",
       " 'service',\n",
       " 'flag',\n",
       " 'src_bytes',\n",
       " 'dst_bytes',\n",
       " 'land',\n",
       " 'wrong_fragment',\n",
       " 'urgent',\n",
       " 'hot',\n",
       " 'num_failed_logins',\n",
       " 'logged_in',\n",
       " 'num_compromised',\n",
       " 'root_shell',\n",
       " 'su_attempted',\n",
       " 'num_root',\n",
       " 'num_file_creations',\n",
       " 'num_shells',\n",
       " 'num_access_files',\n",
       " 'num_outbound_cmds',\n",
       " 'is_host_login',\n",
       " 'is_guest_login',\n",
       " 'count',\n",
       " 'srv_count',\n",
       " 'serror_rate',\n",
       " 'srv_serror_rate',\n",
       " 'rerror_rate',\n",
       " 'srv_rerror_rate',\n",
       " 'same_srv_rate',\n",
       " 'diff_srv_rate',\n",
       " 'srv_diff_host_rate',\n",
       " 'dst_host_count',\n",
       " 'dst_host_srv_count',\n",
       " 'dst_host_same_srv_rate',\n",
       " 'dst_host_diff_srv_rate',\n",
       " 'dst_host_same_src_port_rate',\n",
       " 'dst_host_srv_diff_host_rate',\n",
       " 'dst_host_serror_rate',\n",
       " 'dst_host_srv_serror_rate',\n",
       " 'dst_host_rerror_rate',\n",
       " 'dst_host_srv_rerror_rate',\n",
       " 'label']"
      ]
     },
     "execution_count": 7,
     "metadata": {},
     "output_type": "execute_result"
    }
   ],
   "source": [
    "df.columns"
   ]
  },
  {
   "cell_type": "code",
   "execution_count": 8,
   "metadata": {
    "collapsed": false
   },
   "outputs": [
    {
     "data": {
      "text/plain": [
       "42"
      ]
     },
     "execution_count": 8,
     "metadata": {},
     "output_type": "execute_result"
    }
   ],
   "source": [
    "len(df.columns)"
   ]
  },
  {
   "cell_type": "code",
   "execution_count": 9,
   "metadata": {
    "collapsed": false
   },
   "outputs": [
    {
     "name": "stdout",
     "output_type": "stream",
     "text": [
      "+--------+-------------+-------+----+---------+---------+----+--------------+------+---+-----------------+---------+---------------+----------+------------+--------+------------------+----------+----------------+-----------------+-------------+--------------+-----+---------+-----------+---------------+-----------+---------------+-------------+-------------+------------------+--------------+------------------+----------------------+----------------------+---------------------------+---------------------------+--------------------+------------------------+--------------------+------------------------+-------+\n",
      "|duration|protocol_type|service|flag|src_bytes|dst_bytes|land|wrong_fragment|urgent|hot|num_failed_logins|logged_in|num_compromised|root_shell|su_attempted|num_root|num_file_creations|num_shells|num_access_files|num_outbound_cmds|is_host_login|is_guest_login|count|srv_count|serror_rate|srv_serror_rate|rerror_rate|srv_rerror_rate|same_srv_rate|diff_srv_rate|srv_diff_host_rate|dst_host_count|dst_host_srv_count|dst_host_same_srv_rate|dst_host_diff_srv_rate|dst_host_same_src_port_rate|dst_host_srv_diff_host_rate|dst_host_serror_rate|dst_host_srv_serror_rate|dst_host_rerror_rate|dst_host_srv_rerror_rate|  label|\n",
      "+--------+-------------+-------+----+---------+---------+----+--------------+------+---+-----------------+---------+---------------+----------+------------+--------+------------------+----------+----------------+-----------------+-------------+--------------+-----+---------+-----------+---------------+-----------+---------------+-------------+-------------+------------------+--------------+------------------+----------------------+----------------------+---------------------------+---------------------------+--------------------+------------------------+--------------------+------------------------+-------+\n",
      "|     0.0|          tcp|   http|  SF|    181.0|   5450.0| 0.0|           0.0|   0.0|0.0|              0.0|      1.0|            0.0|       0.0|         0.0|     0.0|               0.0|       0.0|             0.0|              0.0|          0.0|           0.0|  8.0|      8.0|        0.0|            0.0|        0.0|            0.0|          1.0|          0.0|               0.0|           9.0|               9.0|                   1.0|                   0.0|                       0.11|                        0.0|                 0.0|                     0.0|                 0.0|                     0.0|normal.|\n",
      "|     0.0|          tcp|   http|  SF|    239.0|    486.0| 0.0|           0.0|   0.0|0.0|              0.0|      1.0|            0.0|       0.0|         0.0|     0.0|               0.0|       0.0|             0.0|              0.0|          0.0|           0.0|  8.0|      8.0|        0.0|            0.0|        0.0|            0.0|          1.0|          0.0|               0.0|          19.0|              19.0|                   1.0|                   0.0|                       0.05|                        0.0|                 0.0|                     0.0|                 0.0|                     0.0|normal.|\n",
      "+--------+-------------+-------+----+---------+---------+----+--------------+------+---+-----------------+---------+---------------+----------+------------+--------+------------------+----------+----------------+-----------------+-------------+--------------+-----+---------+-----------+---------------+-----------+---------------+-------------+-------------+------------------+--------------+------------------+----------------------+----------------------+---------------------------+---------------------------+--------------------+------------------------+--------------------+------------------------+-------+\n",
      "only showing top 2 rows\n",
      "\n"
     ]
    }
   ],
   "source": [
    "df.show(2)"
   ]
  },
  {
   "cell_type": "code",
   "execution_count": 10,
   "metadata": {
    "collapsed": false
   },
   "outputs": [
    {
     "data": {
      "text/plain": [
       "[Row(duration=0.0, protocol_type=u'tcp', service=u'http', flag=u'SF', src_bytes=181.0, dst_bytes=5450.0, land=0.0, wrong_fragment=0.0, urgent=0.0, hot=0.0, num_failed_logins=0.0, logged_in=1.0, num_compromised=0.0, root_shell=0.0, su_attempted=0.0, num_root=0.0, num_file_creations=0.0, num_shells=0.0, num_access_files=0.0, num_outbound_cmds=0.0, is_host_login=0.0, is_guest_login=0.0, count=8.0, srv_count=8.0, serror_rate=0.0, srv_serror_rate=0.0, rerror_rate=0.0, srv_rerror_rate=0.0, same_srv_rate=1.0, diff_srv_rate=0.0, srv_diff_host_rate=0.0, dst_host_count=9.0, dst_host_srv_count=9.0, dst_host_same_srv_rate=1.0, dst_host_diff_srv_rate=0.0, dst_host_same_src_port_rate=0.11, dst_host_srv_diff_host_rate=0.0, dst_host_serror_rate=0.0, dst_host_srv_serror_rate=0.0, dst_host_rerror_rate=0.0, dst_host_srv_rerror_rate=0.0, label=u'normal.'),\n",
       " Row(duration=0.0, protocol_type=u'tcp', service=u'http', flag=u'SF', src_bytes=239.0, dst_bytes=486.0, land=0.0, wrong_fragment=0.0, urgent=0.0, hot=0.0, num_failed_logins=0.0, logged_in=1.0, num_compromised=0.0, root_shell=0.0, su_attempted=0.0, num_root=0.0, num_file_creations=0.0, num_shells=0.0, num_access_files=0.0, num_outbound_cmds=0.0, is_host_login=0.0, is_guest_login=0.0, count=8.0, srv_count=8.0, serror_rate=0.0, srv_serror_rate=0.0, rerror_rate=0.0, srv_rerror_rate=0.0, same_srv_rate=1.0, diff_srv_rate=0.0, srv_diff_host_rate=0.0, dst_host_count=19.0, dst_host_srv_count=19.0, dst_host_same_srv_rate=1.0, dst_host_diff_srv_rate=0.0, dst_host_same_src_port_rate=0.05, dst_host_srv_diff_host_rate=0.0, dst_host_serror_rate=0.0, dst_host_srv_serror_rate=0.0, dst_host_rerror_rate=0.0, dst_host_srv_rerror_rate=0.0, label=u'normal.')]"
      ]
     },
     "execution_count": 10,
     "metadata": {},
     "output_type": "execute_result"
    }
   ],
   "source": [
    "df.take(2)"
   ]
  },
  {
   "cell_type": "markdown",
   "metadata": {},
   "source": [
    "#### Removing Duplicates"
   ]
  },
  {
   "cell_type": "code",
   "execution_count": 11,
   "metadata": {
    "collapsed": false
   },
   "outputs": [
    {
     "data": {
      "text/plain": [
       "805049"
      ]
     },
     "execution_count": 11,
     "metadata": {},
     "output_type": "execute_result"
    }
   ],
   "source": [
    "df.count()"
   ]
  },
  {
   "cell_type": "code",
   "execution_count": 12,
   "metadata": {
    "collapsed": false
   },
   "outputs": [
    {
     "data": {
      "text/plain": [
       "215600"
      ]
     },
     "execution_count": 12,
     "metadata": {},
     "output_type": "execute_result"
    }
   ],
   "source": [
    "df.distinct().count()"
   ]
  },
  {
   "cell_type": "code",
   "execution_count": 13,
   "metadata": {
    "collapsed": false
   },
   "outputs": [],
   "source": [
    "df = df.drop_duplicates()"
   ]
  },
  {
   "cell_type": "code",
   "execution_count": 14,
   "metadata": {
    "collapsed": false
   },
   "outputs": [
    {
     "data": {
      "text/plain": [
       "215600"
      ]
     },
     "execution_count": 14,
     "metadata": {},
     "output_type": "execute_result"
    }
   ],
   "source": [
    "df.count()"
   ]
  },
  {
   "cell_type": "markdown",
   "metadata": {},
   "source": [
    "#### Missing Value Treatment"
   ]
  },
  {
   "cell_type": "code",
   "execution_count": 15,
   "metadata": {
    "collapsed": false
   },
   "outputs": [
    {
     "name": "stdout",
     "output_type": "stream",
     "text": [
      "+----------------+---------------------+---------------+------------+-----------------+-----------------+------------+----------------------+--------------+-----------+-------------------------+-----------------+-----------------------+------------------+--------------------+----------------+--------------------------+------------------+------------------------+-------------------------+---------------------+----------------------+-------------+-----------------+-------------------+-----------------------+-------------------+-----------------------+---------------------+---------------------+--------------------------+----------------------+--------------------------+------------------------------+------------------------------+-----------------------------------+-----------------------------------+----------------------------+--------------------------------+----------------------------+--------------------------------+-------------+\n",
      "|duration_missing|protocol_type_missing|service_missing|flag_missing|src_bytes_missing|dst_bytes_missing|land_missing|wrong_fragment_missing|urgent_missing|hot_missing|num_failed_logins_missing|logged_in_missing|num_compromised_missing|root_shell_missing|su_attempted_missing|num_root_missing|num_file_creations_missing|num_shells_missing|num_access_files_missing|num_outbound_cmds_missing|is_host_login_missing|is_guest_login_missing|count_missing|srv_count_missing|serror_rate_missing|srv_serror_rate_missing|rerror_rate_missing|srv_rerror_rate_missing|same_srv_rate_missing|diff_srv_rate_missing|srv_diff_host_rate_missing|dst_host_count_missing|dst_host_srv_count_missing|dst_host_same_srv_rate_missing|dst_host_diff_srv_rate_missing|dst_host_same_src_port_rate_missing|dst_host_srv_diff_host_rate_missing|dst_host_serror_rate_missing|dst_host_srv_serror_rate_missing|dst_host_rerror_rate_missing|dst_host_srv_rerror_rate_missing|label_missing|\n",
      "+----------------+---------------------+---------------+------------+-----------------+-----------------+------------+----------------------+--------------+-----------+-------------------------+-----------------+-----------------------+------------------+--------------------+----------------+--------------------------+------------------+------------------------+-------------------------+---------------------+----------------------+-------------+-----------------+-------------------+-----------------------+-------------------+-----------------------+---------------------+---------------------+--------------------------+----------------------+--------------------------+------------------------------+------------------------------+-----------------------------------+-----------------------------------+----------------------------+--------------------------------+----------------------------+--------------------------------+-------------+\n",
      "|             0.0|                  0.0|            0.0|         0.0|              0.0|              0.0|         0.0|                   0.0|           0.0|        0.0|                      0.0|              0.0|                    0.0|               0.0|                 0.0|             0.0|                       0.0|               0.0|                     0.0|                      0.0|                  0.0|                   0.0|          0.0|              0.0|                0.0|                    0.0|                0.0|                    0.0|                  0.0|                  0.0|                       0.0|                   0.0|                       0.0|                           0.0|                           0.0|                                0.0|                                0.0|                         0.0|                             0.0|                         0.0|                             0.0|          0.0|\n",
      "+----------------+---------------------+---------------+------------+-----------------+-----------------+------------+----------------------+--------------+-----------+-------------------------+-----------------+-----------------------+------------------+--------------------+----------------+--------------------------+------------------+------------------------+-------------------------+---------------------+----------------------+-------------+-----------------+-------------------+-----------------------+-------------------+-----------------------+---------------------+---------------------+--------------------------+----------------------+--------------------------+------------------------------+------------------------------+-----------------------------------+-----------------------------------+----------------------------+--------------------------------+----------------------------+--------------------------------+-------------+\n",
      "\n"
     ]
    }
   ],
   "source": [
    "import pyspark.sql.functions as fn\n",
    "df.agg(*[\n",
    "    (1 - (fn.count(c) / fn.count('*'))).alias(c + '_missing')\n",
    "    for c in df.columns\n",
    "]).show()"
   ]
  },
  {
   "cell_type": "markdown",
   "metadata": {},
   "source": [
    "No missing values found"
   ]
  },
  {
   "cell_type": "markdown",
   "metadata": {},
   "source": [
    "#### Transforming Label"
   ]
  },
  {
   "cell_type": "code",
   "execution_count": 16,
   "metadata": {
    "collapsed": false
   },
   "outputs": [
    {
     "data": {
      "text/plain": [
       "135335"
      ]
     },
     "execution_count": 16,
     "metadata": {},
     "output_type": "execute_result"
    }
   ],
   "source": [
    "df.select(df.label).filter(\"label like 'normal%'\").count()"
   ]
  },
  {
   "cell_type": "code",
   "execution_count": 17,
   "metadata": {
    "collapsed": false
   },
   "outputs": [
    {
     "data": {
      "text/plain": [
       "80265"
      ]
     },
     "execution_count": 17,
     "metadata": {},
     "output_type": "execute_result"
    }
   ],
   "source": [
    "df.select(df.label).filter(\"label not like 'normal%'\").count()"
   ]
  },
  {
   "cell_type": "code",
   "execution_count": 18,
   "metadata": {
    "collapsed": false
   },
   "outputs": [
    {
     "data": {
      "text/plain": [
       "[Row(label=u'snmpguess.'),\n",
       " Row(label=u'xlock.'),\n",
       " Row(label=u'warezmaster.'),\n",
       " Row(label=u'processtable.'),\n",
       " Row(label=u'smurf.'),\n",
       " Row(label=u'pod.'),\n",
       " Row(label=u'worm.'),\n",
       " Row(label=u'snmpgetattack.'),\n",
       " Row(label=u'mscan.'),\n",
       " Row(label=u'nmap.'),\n",
       " Row(label=u'imap.'),\n",
       " Row(label=u'xterm.'),\n",
       " Row(label=u'sqlattack.'),\n",
       " Row(label=u'guess_passwd.'),\n",
       " Row(label=u'mailbomb.'),\n",
       " Row(label=u'xsnoop.'),\n",
       " Row(label=u'ipsweep.'),\n",
       " Row(label=u'portsweep.'),\n",
       " Row(label=u'named.'),\n",
       " Row(label=u'satan.'),\n",
       " Row(label=u'land.'),\n",
       " Row(label=u'loadmodule.'),\n",
       " Row(label=u'ftp_write.'),\n",
       " Row(label=u'buffer_overflow.'),\n",
       " Row(label=u'sendmail.'),\n",
       " Row(label=u'httptunnel.'),\n",
       " Row(label=u'apache2.'),\n",
       " Row(label=u'saint.'),\n",
       " Row(label=u'rootkit.'),\n",
       " Row(label=u'warezclient.'),\n",
       " Row(label=u'teardrop.'),\n",
       " Row(label=u'perl.'),\n",
       " Row(label=u'phf.'),\n",
       " Row(label=u'multihop.'),\n",
       " Row(label=u'udpstorm.'),\n",
       " Row(label=u'neptune.'),\n",
       " Row(label=u'back.'),\n",
       " Row(label=u'spy.'),\n",
       " Row(label=u'ps.')]"
      ]
     },
     "execution_count": 18,
     "metadata": {},
     "output_type": "execute_result"
    }
   ],
   "source": [
    "attack_list = df.select(df.label).filter(\"label not like 'normal%'\").distinct().collect()\n",
    "attack_list"
   ]
  },
  {
   "cell_type": "code",
   "execution_count": 19,
   "metadata": {
    "collapsed": false
   },
   "outputs": [
    {
     "data": {
      "text/plain": [
       "list"
      ]
     },
     "execution_count": 19,
     "metadata": {},
     "output_type": "execute_result"
    }
   ],
   "source": [
    "type(attack_list)"
   ]
  },
  {
   "cell_type": "code",
   "execution_count": 20,
   "metadata": {
    "collapsed": false
   },
   "outputs": [
    {
     "name": "stdout",
     "output_type": "stream",
     "text": [
      "[u'snmpguess.', u'xlock.', u'warezmaster.', u'processtable.', u'smurf.', u'pod.', u'worm.', u'snmpgetattack.', u'mscan.', u'nmap.', u'imap.', u'xterm.', u'sqlattack.', u'guess_passwd.', u'mailbomb.', u'xsnoop.', u'ipsweep.', u'portsweep.', u'named.', u'satan.', u'land.', u'loadmodule.', u'ftp_write.', u'buffer_overflow.', u'sendmail.', u'httptunnel.', u'apache2.', u'saint.', u'rootkit.', u'warezclient.', u'teardrop.', u'perl.', u'phf.', u'multihop.', u'udpstorm.', u'neptune.', u'back.', u'spy.', u'ps.']\n"
     ]
    },
    {
     "data": {
      "text/plain": [
       "39"
      ]
     },
     "execution_count": 20,
     "metadata": {},
     "output_type": "execute_result"
    }
   ],
   "source": [
    "attack_array = [(i.label) for i in attack_list]\n",
    "print attack_array\n",
    "len(attack_array)"
   ]
  },
  {
   "cell_type": "code",
   "execution_count": 21,
   "metadata": {
    "collapsed": false
   },
   "outputs": [
    {
     "name": "stdout",
     "output_type": "stream",
     "text": [
      "+------+\n",
      "| label|\n",
      "+------+\n",
      "|normal|\n",
      "|normal|\n",
      "|normal|\n",
      "|normal|\n",
      "|normal|\n",
      "|normal|\n",
      "|normal|\n",
      "|normal|\n",
      "|normal|\n",
      "|normal|\n",
      "+------+\n",
      "only showing top 10 rows\n",
      "\n"
     ]
    }
   ],
   "source": [
    "df = df.replace(attack_array, ['anomaly']*len(attack_array), 'label')\n",
    "df = df.replace(['normal.'], ['normal'], 'label')\n",
    "df.select('label').show(10)"
   ]
  },
  {
   "cell_type": "code",
   "execution_count": 22,
   "metadata": {
    "collapsed": false
   },
   "outputs": [
    {
     "name": "stdout",
     "output_type": "stream",
     "text": [
      "+-------+\n",
      "|  label|\n",
      "+-------+\n",
      "| normal|\n",
      "|anomaly|\n",
      "+-------+\n",
      "\n"
     ]
    }
   ],
   "source": [
    "df.select('label').distinct().show()"
   ]
  },
  {
   "cell_type": "code",
   "execution_count": 23,
   "metadata": {
    "collapsed": false
   },
   "outputs": [],
   "source": [
    "df = df.replace(['normal'], ['0'], 'label')"
   ]
  },
  {
   "cell_type": "code",
   "execution_count": 24,
   "metadata": {
    "collapsed": true
   },
   "outputs": [],
   "source": [
    "df = df.replace(['anomaly'], ['1'], 'label')"
   ]
  },
  {
   "cell_type": "code",
   "execution_count": 25,
   "metadata": {
    "collapsed": false
   },
   "outputs": [
    {
     "name": "stdout",
     "output_type": "stream",
     "text": [
      "+-----+\n",
      "|label|\n",
      "+-----+\n",
      "|    0|\n",
      "|    1|\n",
      "+-----+\n",
      "\n"
     ]
    }
   ],
   "source": [
    "df.select('label').distinct().show()"
   ]
  },
  {
   "cell_type": "code",
   "execution_count": 26,
   "metadata": {
    "collapsed": true
   },
   "outputs": [],
   "source": [
    "df = df.withColumn(\"label\", df[\"label\"].cast(DoubleType()))"
   ]
  },
  {
   "cell_type": "code",
   "execution_count": 27,
   "metadata": {
    "collapsed": false
   },
   "outputs": [
    {
     "name": "stdout",
     "output_type": "stream",
     "text": [
      "+-----+\n",
      "|label|\n",
      "+-----+\n",
      "|  0.0|\n",
      "|  1.0|\n",
      "+-----+\n",
      "\n"
     ]
    }
   ],
   "source": [
    "df.select('label').distinct().show()"
   ]
  },
  {
   "cell_type": "code",
   "execution_count": 28,
   "metadata": {
    "collapsed": false
   },
   "outputs": [
    {
     "name": "stdout",
     "output_type": "stream",
     "text": [
      "+--------+-------------+-------+----+---------+---------+----+--------------+------+---+-----------------+---------+---------------+----------+------------+--------+------------------+----------+----------------+-----------------+-------------+--------------+-----+---------+-----------+---------------+-----------+---------------+-------------+-------------+------------------+--------------+------------------+----------------------+----------------------+---------------------------+---------------------------+--------------------+------------------------+--------------------+------------------------+-----+\n",
      "|duration|protocol_type|service|flag|src_bytes|dst_bytes|land|wrong_fragment|urgent|hot|num_failed_logins|logged_in|num_compromised|root_shell|su_attempted|num_root|num_file_creations|num_shells|num_access_files|num_outbound_cmds|is_host_login|is_guest_login|count|srv_count|serror_rate|srv_serror_rate|rerror_rate|srv_rerror_rate|same_srv_rate|diff_srv_rate|srv_diff_host_rate|dst_host_count|dst_host_srv_count|dst_host_same_srv_rate|dst_host_diff_srv_rate|dst_host_same_src_port_rate|dst_host_srv_diff_host_rate|dst_host_serror_rate|dst_host_srv_serror_rate|dst_host_rerror_rate|dst_host_srv_rerror_rate|label|\n",
      "+--------+-------------+-------+----+---------+---------+----+--------------+------+---+-----------------+---------+---------------+----------+------------+--------+------------------+----------+----------------+-----------------+-------------+--------------+-----+---------+-----------+---------------+-----------+---------------+-------------+-------------+------------------+--------------+------------------+----------------------+----------------------+---------------------------+---------------------------+--------------------+------------------------+--------------------+------------------------+-----+\n",
      "|     0.0|          tcp|   http|  SF|    213.0|   2164.0| 0.0|           0.0|   0.0|0.0|              0.0|      1.0|            0.0|       0.0|         0.0|     0.0|               0.0|       0.0|             0.0|              0.0|          0.0|           0.0| 15.0|     34.0|        0.0|            0.0|        0.0|            0.0|          1.0|          0.0|              0.12|         211.0|             255.0|                   1.0|                   0.0|                        0.0|                       0.01|                 0.0|                     0.0|                 0.0|                     0.0|  0.0|\n",
      "|     0.0|          tcp|   http|  SF|    234.0|  18000.0| 0.0|           0.0|   0.0|0.0|              0.0|      1.0|            0.0|       0.0|         0.0|     0.0|               0.0|       0.0|             0.0|              0.0|          0.0|           0.0|  3.0|      3.0|        0.0|            0.0|        0.0|            0.0|          1.0|          0.0|               0.0|          17.0|             255.0|                   1.0|                   0.0|                       0.06|                       0.02|                 0.0|                     0.0|                 0.0|                     0.0|  0.0|\n",
      "+--------+-------------+-------+----+---------+---------+----+--------------+------+---+-----------------+---------+---------------+----------+------------+--------+------------------+----------+----------------+-----------------+-------------+--------------+-----+---------+-----------+---------------+-----------+---------------+-------------+-------------+------------------+--------------+------------------+----------------------+----------------------+---------------------------+---------------------------+--------------------+------------------------+--------------------+------------------------+-----+\n",
      "only showing top 2 rows\n",
      "\n"
     ]
    }
   ],
   "source": [
    "df.show(2)"
   ]
  },
  {
   "cell_type": "markdown",
   "metadata": {},
   "source": [
    "### Exploratory Data Analysis"
   ]
  },
  {
   "cell_type": "code",
   "execution_count": 29,
   "metadata": {
    "collapsed": false
   },
   "outputs": [
    {
     "name": "stdout",
     "output_type": "stream",
     "text": [
      "38\n",
      "+-------+------------------+------------------+-----------------+--------------------+--------------------+\n",
      "|summary|          duration|         src_bytes|        dst_bytes|                land|      wrong_fragment|\n",
      "+-------+------------------+------------------+-----------------+--------------------+--------------------+\n",
      "|  count|            215600|            215600|           215600|              215600|              215600|\n",
      "|   mean|114.51876623376623| 6621.426915584416|2957.888084415584|1.159554730983302...|0.014415584415584416|\n",
      "| stddev|1118.3254076817511|1503683.6072299897|53563.83745976232|0.010767662940192213| 0.20181501445631342|\n",
      "|    min|               0.0|               0.0|              0.0|                 0.0|                 0.0|\n",
      "|    max|           58329.0|       6.9337564E8|        5203179.0|                 1.0|                 3.0|\n",
      "+-------+------------------+------------------+-----------------+--------------------+--------------------+\n",
      "\n",
      "+-------+--------------------+-------------------+--------------------+------------------+--------------------+\n",
      "|summary|              urgent|                hot|   num_failed_logins|         logged_in|     num_compromised|\n",
      "+-------+--------------------+-------------------+--------------------+------------------+--------------------+\n",
      "|  count|              215600|             215600|              215600|            215600|              215600|\n",
      "|   mean|1.066790352504638...|0.08182745825602969|0.002699443413729128|0.5408256029684602|0.030510204081632655|\n",
      "| stddev|0.014446779544261865| 1.2253883212429109| 0.05568064353363252|0.4983316385417219|   3.596272186756629|\n",
      "|    min|                 0.0|                0.0|                 0.0|               0.0|                 0.0|\n",
      "|    max|                 3.0|              101.0|                 5.0|               1.0|               884.0|\n",
      "+-------+--------------------+-------------------+--------------------+------------------+--------------------+\n",
      "\n",
      "+-------+--------------------+--------------------+-------------------+--------------------+--------------------+\n",
      "|summary|          root_shell|        su_attempted|           num_root|  num_file_creations|          num_shells|\n",
      "+-------+--------------------+--------------------+-------------------+--------------------+--------------------+\n",
      "|  count|              215600|              215600|             215600|              215600|              215600|\n",
      "|   mean|5.426716141001855E-4|1.159554730983302...|0.03807050092764378|0.003863636363636364|3.710575139146567...|\n",
      "| stddev|0.023289045435460284| 0.01378964873328227| 4.0055640579587495|  0.2740293773355289| 0.02278914751891411|\n",
      "|    min|                 0.0|                 0.0|                0.0|                 0.0|                 0.0|\n",
      "|    max|                 1.0|                 2.0|              993.0|               100.0|                 5.0|\n",
      "+-------+--------------------+--------------------+-------------------+--------------------+--------------------+\n",
      "\n",
      "+-------+--------------------+-----------------+--------------------+--------------------+------------------+\n",
      "|summary|    num_access_files|num_outbound_cmds|       is_host_login|      is_guest_login|             count|\n",
      "+-------+--------------------+-----------------+--------------------+--------------------+------------------+\n",
      "|  count|              215600|           215600|              215600|              215600|            215600|\n",
      "|   mean|0.003404452690166...|              0.0|5.565862708719851...|0.006590909090909091| 68.46307050092764|\n",
      "| stddev| 0.06537693639204437|              0.0| 0.00746028064808258| 0.08091661990592526|100.50765465629084|\n",
      "|    min|                 0.0|              0.0|                 0.0|                 0.0|               0.0|\n",
      "|    max|                 8.0|              0.0|                 1.0|                 1.0|             511.0|\n",
      "+-------+--------------------+-----------------+--------------------+--------------------+------------------+\n",
      "\n",
      "+-------+------------------+------------------+------------------+------------------+-------------------+\n",
      "|summary|         srv_count|       serror_rate|   srv_serror_rate|       rerror_rate|    srv_rerror_rate|\n",
      "+-------+------------------+------------------+------------------+------------------+-------------------+\n",
      "|  count|            215600|            215600|            215600|            215600|             215600|\n",
      "|   mean| 14.79648423005566|0.2190845547309834|0.2193741651205938|0.1303199907235622|0.13001873840445266|\n",
      "| stddev|39.910146351450436|0.4110022488044762|0.4121878666983374|0.3331634259267825|0.33343912325101427|\n",
      "|    min|               0.0|               0.0|               0.0|               0.0|                0.0|\n",
      "|    max|             511.0|               1.0|               1.0|               1.0|                1.0|\n",
      "+-------+------------------+------------------+------------------+------------------+-------------------+\n",
      "\n",
      "+-------+-------------------+-------------------+-------------------+------------------+------------------+\n",
      "|summary|      same_srv_rate|      diff_srv_rate| srv_diff_host_rate|    dst_host_count|dst_host_srv_count|\n",
      "+-------+-------------------+-------------------+-------------------+------------------+------------------+\n",
      "|  count|             215600|             215600|             215600|            215600|            215600|\n",
      "|   mean| 0.6988155844155832| 0.0420787105751392| 0.0974432745825603|178.08186920222636| 143.5268599257885|\n",
      "| stddev|0.43334320216493155|0.13784326834574934|0.24088759978170196|  99.9456356181356|114.23494968480242|\n",
      "|    min|                0.0|                0.0|                0.0|               0.0|               0.0|\n",
      "|    max|                1.0|                1.0|                1.0|             255.0|             255.0|\n",
      "+-------+-------------------+-------------------+-------------------+------------------+------------------+\n",
      "\n",
      "+-------+----------------------+----------------------+---------------------------+---------------------------+--------------------+\n",
      "|summary|dst_host_same_srv_rate|dst_host_diff_srv_rate|dst_host_same_src_port_rate|dst_host_srv_diff_host_rate|dst_host_serror_rate|\n",
      "+-------+----------------------+----------------------+---------------------------+---------------------------+--------------------+\n",
      "|  count|                215600|                215600|                     215600|                     215600|              215600|\n",
      "|   mean|    0.6060078849721693|   0.05595932282003714|        0.08838654916512084|       0.018166697588126134| 0.21860955473098323|\n",
      "| stddev|     0.449318845814615|   0.14497756210749285|         0.2348279527429064|        0.05615406360874736| 0.40891259245038764|\n",
      "|    min|                   0.0|                   0.0|                        0.0|                        0.0|                 0.0|\n",
      "|    max|                   1.0|                   1.0|                        1.0|                        1.0|                 1.0|\n",
      "+-------+----------------------+----------------------+---------------------------+---------------------------+--------------------+\n",
      "\n",
      "+-------+------------------------+--------------------+------------------------+\n",
      "|summary|dst_host_srv_serror_rate|dst_host_rerror_rate|dst_host_srv_rerror_rate|\n",
      "+-------+------------------------+--------------------+------------------------+\n",
      "|  count|                  215600|              215600|                  215600|\n",
      "|   mean|     0.21843297773654907| 0.13132189239332095|      0.1285729128014844|\n",
      "| stddev|      0.4108179567234468|  0.3269360696462251|     0.32812740594686657|\n",
      "|    min|                     0.0|                 0.0|                     0.0|\n",
      "|    max|                     1.0|                 1.0|                     1.0|\n",
      "+-------+------------------------+--------------------+------------------------+\n",
      "\n"
     ]
    }
   ],
   "source": [
    "# Summary Statistics of quantitaive variables\n",
    "numeric_features = df.columns \n",
    "numeric_features.remove('protocol_type')\n",
    "numeric_features.remove('service')\n",
    "numeric_features.remove('flag')\n",
    "numeric_features.remove('label')\n",
    "print len(numeric_features)\n",
    "\n",
    "x = range(0,len(numeric_features),5)\n",
    "\n",
    "y = range(5,len(numeric_features),5) + [len(numeric_features)]\n",
    "\n",
    "\n",
    "zipped = zip(x,y)\n",
    "for a,b in zipped:\n",
    "    df.describe(numeric_features[a:b]).show()\n"
   ]
  },
  {
   "cell_type": "code",
   "execution_count": 30,
   "metadata": {
    "collapsed": false
   },
   "outputs": [
    {
     "name": "stdout",
     "output_type": "stream",
     "text": [
      "+-------------------+------+-----+\n",
      "|protocol_type_label|   0.0|  1.0|\n",
      "+-------------------+------+-----+\n",
      "|                udp| 14758| 2035|\n",
      "|               icmp|  1036| 2479|\n",
      "|                tcp|119541|75751|\n",
      "+-------------------+------+-----+\n",
      "\n"
     ]
    }
   ],
   "source": [
    "# Distribution of categorical variable w.r.t. target\n",
    "df.crosstab('protocol_type', 'label').show()"
   ]
  },
  {
   "cell_type": "code",
   "execution_count": 31,
   "metadata": {
    "collapsed": false
   },
   "outputs": [
    {
     "name": "stdout",
     "output_type": "stream",
     "text": [
      "+-------------+-----+-----+\n",
      "|service_label|  0.0|  1.0|\n",
      "+-------------+-----+-----+\n",
      "|          ftp|  495| 1121|\n",
      "|  netbios_ssn|    0|  158|\n",
      "|    hostnames|    0|  150|\n",
      "|      printer|    0|  166|\n",
      "|       finger|  642|  313|\n",
      "|         smtp|12803|  492|\n",
      "|         name|    0|  158|\n",
      "|        whois|    0|  162|\n",
      "|      private| 2478|59305|\n",
      "|      sql_net|    0|  164|\n",
      "|        shell|    1|  163|\n",
      "|     ftp_data| 4844| 1385|\n",
      "|         auth|  309|  167|\n",
      "|          ssh|    1|  160|\n",
      "|       telnet|  307| 1997|\n",
      "|       gopher|    0|  181|\n",
      "|        pop_2|    0|  161|\n",
      "|       domain|    3|  179|\n",
      "|      pm_dump|    0|   17|\n",
      "|       supdup|    0|  154|\n",
      "|  netbios_dgm|    0|  156|\n",
      "|      discard|    0|  176|\n",
      "|         nnsp|    0|  164|\n",
      "|          X11|   13|   13|\n",
      "|          ctf|    0|  160|\n",
      "|        red_i|    1|    0|\n",
      "|        tim_i|    3|    6|\n",
      "|     csnet_ns|    0|  175|\n",
      "|       sunrpc|    0|  300|\n",
      "|        urh_i|   14|    0|\n",
      "|       Z39_50|    0|  146|\n",
      "|         icmp|    2|    0|\n",
      "|       tftp_u|    2|    0|\n",
      "|   remote_job|    1|  184|\n",
      "|     domain_u| 7921|    3|\n",
      "|      courier|    0|  165|\n",
      "|     http_443|    0|  158|\n",
      "|     iso_tsap|    0|  177|\n",
      "|          efs|    0|  156|\n",
      "|         nntp|    0|  170|\n",
      "|         link|    1|  167|\n",
      "|      daytime|    0|  156|\n",
      "|          bgp|    0|  170|\n",
      "|        ecr_i|  231| 1614|\n",
      "|         echo|    0|  181|\n",
      "|          mtp|    0|  163|\n",
      "|    uucp_path|    0|  162|\n",
      "|        eco_i|  291|  853|\n",
      "|        pop_3|   93| 1242|\n",
      "|       klogin|    0|  156|\n",
      "+-------------+-----+-----+\n",
      "only showing top 50 rows\n",
      "\n"
     ]
    }
   ],
   "source": [
    "# Distribution of categorical variable w.r.t. target\n",
    "df.crosstab('service', 'label').show(50)"
   ]
  },
  {
   "cell_type": "code",
   "execution_count": 32,
   "metadata": {
    "collapsed": false
   },
   "outputs": [
    {
     "name": "stdout",
     "output_type": "stream",
     "text": [
      "+----------+------+-----+\n",
      "|flag_label|   0.0|  1.0|\n",
      "+----------+------+-----+\n",
      "|        S1|    71|   13|\n",
      "|      RSTR|    78| 1061|\n",
      "|       REJ|  4703|20141|\n",
      "|        S0|    51|46699|\n",
      "|    RSTOS0|     1|   12|\n",
      "|       OTH|     1|    9|\n",
      "|        SH|     0|  114|\n",
      "|        S3|    11|  273|\n",
      "|        SF|130321|10051|\n",
      "|      RSTO|    68| 1876|\n",
      "|        S2|    30|   16|\n",
      "+----------+------+-----+\n",
      "\n"
     ]
    }
   ],
   "source": [
    "# Distribution of categorical variable w.r.t. target\n",
    "df.crosstab('flag', 'label').show()"
   ]
  },
  {
   "cell_type": "code",
   "execution_count": 33,
   "metadata": {
    "collapsed": false
   },
   "outputs": [
    {
     "name": "stdout",
     "output_type": "stream",
     "text": [
      "+------------------+\n",
      "|skewness(duration)|\n",
      "+------------------+\n",
      "|  17.7128436066353|\n",
      "+------------------+\n",
      "\n",
      "+-------------------+\n",
      "|skewness(src_bytes)|\n",
      "+-------------------+\n",
      "|  455.1487977714828|\n",
      "+-------------------+\n",
      "\n",
      "+-------------------+\n",
      "|skewness(dst_bytes)|\n",
      "+-------------------+\n",
      "|  80.71594325653379|\n",
      "+-------------------+\n",
      "\n",
      "+-----------------+\n",
      "|   skewness(land)|\n",
      "+-----------------+\n",
      "|92.84934095602907|\n",
      "+-----------------+\n",
      "\n",
      "+------------------------+\n",
      "|skewness(wrong_fragment)|\n",
      "+------------------------+\n",
      "|      14.445312939855615|\n",
      "+------------------------+\n",
      "\n",
      "+------------------+\n",
      "|  skewness(urgent)|\n",
      "+------------------+\n",
      "|155.34617829292887|\n",
      "+------------------+\n",
      "\n",
      "+------------------+\n",
      "|     skewness(hot)|\n",
      "+------------------+\n",
      "|22.528087106894187|\n",
      "+------------------+\n",
      "\n",
      "+---------------------------+\n",
      "|skewness(num_failed_logins)|\n",
      "+---------------------------+\n",
      "|          26.77656279659013|\n",
      "+---------------------------+\n",
      "\n",
      "+-------------------+\n",
      "|skewness(logged_in)|\n",
      "+-------------------+\n",
      "|-0.1638495110095785|\n",
      "+-------------------+\n",
      "\n",
      "+-------------------------+\n",
      "|skewness(num_compromised)|\n",
      "+-------------------------+\n",
      "|       198.66510837316338|\n",
      "+-------------------------+\n",
      "\n",
      "+--------------------+\n",
      "|skewness(root_shell)|\n",
      "+--------------------+\n",
      "|  42.892138973258334|\n",
      "+--------------------+\n",
      "\n",
      "+----------------------+\n",
      "|skewness(su_attempted)|\n",
      "+----------------------+\n",
      "|    129.10190758601988|\n",
      "+----------------------+\n",
      "\n",
      "+------------------+\n",
      "|skewness(num_root)|\n",
      "+------------------+\n",
      "| 198.4323737883426|\n",
      "+------------------+\n",
      "\n",
      "+----------------------------+\n",
      "|skewness(num_file_creations)|\n",
      "+----------------------------+\n",
      "|          251.87017420708452|\n",
      "+----------------------------+\n",
      "\n",
      "+--------------------+\n",
      "|skewness(num_shells)|\n",
      "+--------------------+\n",
      "|   92.43843357402923|\n",
      "+--------------------+\n",
      "\n",
      "+--------------------------+\n",
      "|skewness(num_access_files)|\n",
      "+--------------------------+\n",
      "|         30.15331513774832|\n",
      "+--------------------------+\n",
      "\n",
      "+---------------------------+\n",
      "|skewness(num_outbound_cmds)|\n",
      "+---------------------------+\n",
      "|                        NaN|\n",
      "+---------------------------+\n",
      "\n",
      "+-----------------------+\n",
      "|skewness(is_host_login)|\n",
      "+-----------------------+\n",
      "|     134.02860411989818|\n",
      "+-----------------------+\n",
      "\n",
      "+------------------------+\n",
      "|skewness(is_guest_login)|\n",
      "+------------------------+\n",
      "|      12.195522644332103|\n",
      "+------------------------+\n",
      "\n",
      "+-----------------+\n",
      "|  skewness(count)|\n",
      "+-----------------+\n",
      "|1.615997360746497|\n",
      "+-----------------+\n",
      "\n",
      "+-------------------+\n",
      "|skewness(srv_count)|\n",
      "+-------------------+\n",
      "|  9.436980317900769|\n",
      "+-------------------+\n",
      "\n",
      "+---------------------+\n",
      "|skewness(serror_rate)|\n",
      "+---------------------+\n",
      "|   1.3628716567600376|\n",
      "+---------------------+\n",
      "\n",
      "+-------------------------+\n",
      "|skewness(srv_serror_rate)|\n",
      "+-------------------------+\n",
      "|       1.3593249681523245|\n",
      "+-------------------------+\n",
      "\n",
      "+---------------------+\n",
      "|skewness(rerror_rate)|\n",
      "+---------------------+\n",
      "|    2.190894278197436|\n",
      "+---------------------+\n",
      "\n",
      "+-------------------------+\n",
      "|skewness(srv_rerror_rate)|\n",
      "+-------------------------+\n",
      "|        2.203970643907542|\n",
      "+-------------------------+\n",
      "\n",
      "+-----------------------+\n",
      "|skewness(same_srv_rate)|\n",
      "+-----------------------+\n",
      "|    -0.7717351948151285|\n",
      "+-----------------------+\n",
      "\n",
      "+-----------------------+\n",
      "|skewness(diff_srv_rate)|\n",
      "+-----------------------+\n",
      "|      5.905588614490986|\n",
      "+-----------------------+\n",
      "\n",
      "+----------------------------+\n",
      "|skewness(srv_diff_host_rate)|\n",
      "+----------------------------+\n",
      "|           2.912032064945388|\n",
      "+----------------------------+\n",
      "\n",
      "+------------------------+\n",
      "|skewness(dst_host_count)|\n",
      "+------------------------+\n",
      "|     -0.7210936916908061|\n",
      "+------------------------+\n",
      "\n",
      "+----------------------------+\n",
      "|skewness(dst_host_srv_count)|\n",
      "+----------------------------+\n",
      "|        -0.18446992560044945|\n",
      "+----------------------------+\n",
      "\n",
      "+--------------------------------+\n",
      "|skewness(dst_host_same_srv_rate)|\n",
      "+--------------------------------+\n",
      "|             -0.3788919902242531|\n",
      "+--------------------------------+\n",
      "\n",
      "+--------------------------------+\n",
      "|skewness(dst_host_diff_srv_rate)|\n",
      "+--------------------------------+\n",
      "|               4.827043209716022|\n",
      "+--------------------------------+\n",
      "\n",
      "+-------------------------------------+\n",
      "|skewness(dst_host_same_src_port_rate)|\n",
      "+-------------------------------------+\n",
      "|                    3.154734260988507|\n",
      "+-------------------------------------+\n",
      "\n",
      "+-------------------------------------+\n",
      "|skewness(dst_host_srv_diff_host_rate)|\n",
      "+-------------------------------------+\n",
      "|                    9.460021478888647|\n",
      "+-------------------------------------+\n",
      "\n",
      "+------------------------------+\n",
      "|skewness(dst_host_serror_rate)|\n",
      "+------------------------------+\n",
      "|            1.3706377982638924|\n",
      "+------------------------------+\n",
      "\n",
      "+----------------------------------+\n",
      "|skewness(dst_host_srv_serror_rate)|\n",
      "+----------------------------------+\n",
      "|                1.3659269111781174|\n",
      "+----------------------------------+\n",
      "\n",
      "+------------------------------+\n",
      "|skewness(dst_host_rerror_rate)|\n",
      "+------------------------------+\n",
      "|            2.1866267815067126|\n",
      "+------------------------------+\n",
      "\n",
      "+----------------------------------+\n",
      "|skewness(dst_host_srv_rerror_rate)|\n",
      "+----------------------------------+\n",
      "|                  2.22079401707253|\n",
      "+----------------------------------+\n",
      "\n"
     ]
    }
   ],
   "source": [
    "# Skewness of quantitative features\n",
    "for i in numeric_features:\n",
    "    df.agg({i: 'skewness'}).show()"
   ]
  },
  {
   "cell_type": "code",
   "execution_count": 34,
   "metadata": {
    "collapsed": false
   },
   "outputs": [
    {
     "name": "stdout",
     "output_type": "stream",
     "text": [
      "Correlation with label\n",
      "duration -0.0149471660749\n",
      "src_bytes 0.00472760555869\n",
      "dst_bytes -0.0254135047685\n",
      "land 0.0130923303992\n",
      "wrong_fragment 0.0866662688828\n",
      "urgent 0.00759607733587\n",
      "hot 0.0440365825002\n",
      "num_failed_logins 0.057955296724\n",
      "logged_in -0.745452873217\n",
      "num_compromised -0.00145644670146\n",
      "root_shell 0.0104819069525\n",
      "su_attempted -0.00508427006758\n",
      "num_root -0.00550626217343\n",
      "num_file_creations -0.00497593776041\n",
      "num_shells 0.00303854445752\n",
      "num_access_files -0.034820087781\n",
      "num_outbound_cmds nan\n",
      "is_host_login 0.00840158257239\n",
      "is_guest_login 0.0480208024287\n",
      "count 0.740726534658\n",
      "srv_count 0.0173995996107\n",
      "serror_rate 0.687412973171\n",
      "srv_serror_rate 0.685764246748\n",
      "rerror_rate 0.368126971655\n",
      "srv_rerror_rate 0.365396568331\n",
      "same_srv_rate -0.868766782274\n",
      "diff_srv_rate 0.260319302422\n",
      "srv_diff_host_rate -0.240127371137\n",
      "dst_host_count 0.497506192561\n",
      "dst_host_srv_count -0.777270072914\n",
      "dst_host_same_srv_rate -0.798670430849\n",
      "dst_host_diff_srv_rate 0.194094731183\n",
      "dst_host_same_src_port_rate -0.101577906756\n",
      "dst_host_srv_diff_host_rate -0.12073450812\n",
      "dst_host_serror_rate 0.687712349601\n",
      "dst_host_srv_serror_rate 0.687187885258\n",
      "dst_host_rerror_rate 0.370372670911\n",
      "dst_host_srv_rerror_rate 0.366270155272\n"
     ]
    }
   ],
   "source": [
    "# Correlation of quantitative features with label\n",
    "print 'Correlation with label'\n",
    "for i in numeric_features:\n",
    "    print i,  df.corr(i,'label')\n",
    "       "
   ]
  },
  {
   "cell_type": "markdown",
   "metadata": {
    "collapsed": true
   },
   "source": [
    "num_outbound_cmds can be removed from the feature list due to its stddev(=0) and correlation(nan) with target variable"
   ]
  },
  {
   "cell_type": "markdown",
   "metadata": {},
   "source": [
    "### Model Building"
   ]
  },
  {
   "cell_type": "code",
   "execution_count": 35,
   "metadata": {
    "collapsed": false
   },
   "outputs": [
    {
     "data": {
      "text/plain": [
       "['duration',\n",
       " 'protocol_type',\n",
       " 'service',\n",
       " 'flag',\n",
       " 'src_bytes',\n",
       " 'dst_bytes',\n",
       " 'land',\n",
       " 'wrong_fragment',\n",
       " 'urgent',\n",
       " 'hot',\n",
       " 'num_failed_logins',\n",
       " 'logged_in',\n",
       " 'num_compromised',\n",
       " 'root_shell',\n",
       " 'su_attempted',\n",
       " 'num_root',\n",
       " 'num_file_creations',\n",
       " 'num_shells',\n",
       " 'num_access_files',\n",
       " 'num_outbound_cmds',\n",
       " 'is_host_login',\n",
       " 'is_guest_login',\n",
       " 'count',\n",
       " 'srv_count',\n",
       " 'serror_rate',\n",
       " 'srv_serror_rate',\n",
       " 'rerror_rate',\n",
       " 'srv_rerror_rate',\n",
       " 'same_srv_rate',\n",
       " 'diff_srv_rate',\n",
       " 'srv_diff_host_rate',\n",
       " 'dst_host_count',\n",
       " 'dst_host_srv_count',\n",
       " 'dst_host_same_srv_rate',\n",
       " 'dst_host_diff_srv_rate',\n",
       " 'dst_host_same_src_port_rate',\n",
       " 'dst_host_srv_diff_host_rate',\n",
       " 'dst_host_serror_rate',\n",
       " 'dst_host_srv_serror_rate',\n",
       " 'dst_host_rerror_rate',\n",
       " 'dst_host_srv_rerror_rate',\n",
       " 'label']"
      ]
     },
     "execution_count": 35,
     "metadata": {},
     "output_type": "execute_result"
    }
   ],
   "source": [
    "df.columns"
   ]
  },
  {
   "cell_type": "code",
   "execution_count": 36,
   "metadata": {
    "collapsed": false
   },
   "outputs": [],
   "source": [
    "# Pipeline Stages\n",
    "from pyspark.ml.feature import StringIndexer\n",
    "from pyspark.ml.feature import OneHotEncoder\n",
    "from pyspark.ml.feature import VectorAssembler\n",
    "\n",
    "indexers = [StringIndexer(inputCol=c, outputCol=\"{}_idx\".format(c)) for c in ['protocol_type', 'service', 'flag']]\n",
    "\n",
    "encoders = [OneHotEncoder(inputCol=idx.getOutputCol(),outputCol=\"{0}_enc\".format(idx.getOutputCol())) for idx in indexers]\n",
    "\n",
    "input_col = df.columns\n",
    "input_col.remove('protocol_type')\n",
    "input_col.remove('service')\n",
    "input_col.remove('flag')\n",
    "input_col.remove('num_outbound_cmds')\n",
    "\n",
    "\n",
    "assembler = VectorAssembler(inputCols=[enc.getOutputCol() for enc in encoders] + input_col, outputCol=\"features\")\n",
    "\n",
    "assembler2 = VectorAssembler(inputCols=input_col, outputCol=\"features\")  # For feature importance of quantitative variables\n"
   ]
  },
  {
   "cell_type": "code",
   "execution_count": 37,
   "metadata": {
    "collapsed": true
   },
   "outputs": [],
   "source": [
    "# Split dataset into train and test set\n",
    "df_train, df_test = df.randomSplit([0.7, 0.3], seed=666)"
   ]
  },
  {
   "cell_type": "markdown",
   "metadata": {},
   "source": [
    "#### Feature Importance"
   ]
  },
  {
   "cell_type": "code",
   "execution_count": 38,
   "metadata": {
    "collapsed": false
   },
   "outputs": [
    {
     "name": "stdout",
     "output_type": "stream",
     "text": [
      "38\n",
      "['duration', 'src_bytes', 'dst_bytes', 'land', 'wrong_fragment', 'urgent', 'hot', 'num_failed_logins', 'logged_in', 'num_compromised', 'root_shell', 'su_attempted', 'num_root', 'num_file_creations', 'num_shells', 'num_access_files', 'is_host_login', 'is_guest_login', 'count', 'srv_count', 'serror_rate', 'srv_serror_rate', 'rerror_rate', 'srv_rerror_rate', 'same_srv_rate', 'diff_srv_rate', 'srv_diff_host_rate', 'dst_host_count', 'dst_host_srv_count', 'dst_host_same_srv_rate', 'dst_host_diff_srv_rate', 'dst_host_same_src_port_rate', 'dst_host_srv_diff_host_rate', 'dst_host_serror_rate', 'dst_host_srv_serror_rate', 'dst_host_rerror_rate', 'dst_host_srv_rerror_rate', 'label']\n",
      "(38,[0,1,2,4,5,6,7,8,9,12,17,18,19,20,21,22,23,24,25,26,27,28,29,30,31,32,33,34,35,36,37],[0.00101594793679,0.122904893741,0.0770629897124,0.00102351078034,2.92452667735e-06,0.0073771995442,0.00041240318173,0.00763099101691,0.00111083990927,1.7410831498e-05,0.00054290610688,0.125238995584,0.000876475332731,0.00481546591882,0.00138590012805,0.00138860654286,0.00187046585341,0.119818505732,0.0788796480735,5.42099322714e-05,0.00143677750423,0.0370698896149,0.0366487589936,0.0383495857984,0.0063466703929,0.00329095798755,0.00283842987942,0.00323223498687,0.00935942623815,0.000981037019269,0.3070159412])\n"
     ]
    }
   ],
   "source": [
    "# Feature Importance of quantitative variables\n",
    "\n",
    "from pyspark.ml import Pipeline\n",
    "from pyspark.ml.classification import RandomForestClassifier\n",
    "\n",
    "rand_forest = RandomForestClassifier(labelCol='label')\n",
    "pipeline = Pipeline(stages=[assembler2])\n",
    "pp_rf = pipeline.fit(df_train)\n",
    "df_fi = pp_rf.transform(df_train)\n",
    "mod_rf = rand_forest.fit(df_fi)\n",
    "print len(input_col)\n",
    "print input_col\n",
    "print mod_rf.featureImportances"
   ]
  },
  {
   "cell_type": "code",
   "execution_count": 39,
   "metadata": {
    "collapsed": true
   },
   "outputs": [],
   "source": [
    "# Build Regularized Logistic Regression model\n",
    "from pyspark.ml.classification import LogisticRegression\n",
    "\n",
    "logistic = LogisticRegression(maxIter=10, regParam=0.01, labelCol='label')\n",
    "pipeline = Pipeline(stages=indexers + encoders + [assembler, logistic])\n",
    "model_lr = pipeline.fit(df_train)"
   ]
  },
  {
   "cell_type": "code",
   "execution_count": 40,
   "metadata": {
    "collapsed": false
   },
   "outputs": [],
   "source": [
    "# Build Random Forest Classifier model\n",
    "from pyspark.ml.classification import RandomForestClassifier\n",
    "\n",
    "random_forest = RandomForestClassifier(numTrees=10, labelCol='label')\n",
    "pipeline = Pipeline(stages=indexers + encoders + [assembler, random_forest])\n",
    "model_rf = pipeline.fit(df_train)"
   ]
  },
  {
   "cell_type": "markdown",
   "metadata": {},
   "source": [
    "### Model Evaluation"
   ]
  },
  {
   "cell_type": "code",
   "execution_count": 41,
   "metadata": {
    "collapsed": true
   },
   "outputs": [],
   "source": [
    "import pyspark.ml.evaluation as ev"
   ]
  },
  {
   "cell_type": "code",
   "execution_count": 44,
   "metadata": {
    "collapsed": false
   },
   "outputs": [
    {
     "name": "stdout",
     "output_type": "stream",
     "text": [
      "0.99998253439\n",
      "0.999969736369\n"
     ]
    }
   ],
   "source": [
    "# Performance of Regularized Logistic Regression model\n",
    "test_model = model_lr.transform(df_test)\n",
    "evaluator_lr = ev.BinaryClassificationEvaluator(rawPredictionCol='probability', labelCol='label')\n",
    "print(evaluator_lr.evaluate(test_model, {evaluator_lr.metricName: 'areaUnderROC'}))\n",
    "print(evaluator_lr.evaluate(test_model, {evaluator_lr.metricName: 'areaUnderPR'}))"
   ]
  },
  {
   "cell_type": "code",
   "execution_count": 45,
   "metadata": {
    "collapsed": false
   },
   "outputs": [
    {
     "name": "stdout",
     "output_type": "stream",
     "text": [
      "0.999988201478\n",
      "0.999979797952\n"
     ]
    }
   ],
   "source": [
    "# Performance of Random Forest Classifier model\n",
    "test_model = model_rf.transform(df_test)\n",
    "evaluator_rf = ev.BinaryClassificationEvaluator(rawPredictionCol='probability', labelCol='label')\n",
    "print(evaluator_rf.evaluate(test_model, {evaluator_rf.metricName: 'areaUnderROC'}))\n",
    "print(evaluator_rf.evaluate(test_model, {evaluator_rf.metricName: 'areaUnderPR'}))"
   ]
  }
 ],
 "metadata": {
  "anaconda-cloud": {},
  "kernelspec": {
   "display_name": "Python [conda root]",
   "language": "python",
   "name": "conda-root-py"
  },
  "language_info": {
   "codemirror_mode": {
    "name": "ipython",
    "version": 2
   },
   "file_extension": ".py",
   "mimetype": "text/x-python",
   "name": "python",
   "nbconvert_exporter": "python",
   "pygments_lexer": "ipython2",
   "version": "2.7.12"
  }
 },
 "nbformat": 4,
 "nbformat_minor": 1
}
